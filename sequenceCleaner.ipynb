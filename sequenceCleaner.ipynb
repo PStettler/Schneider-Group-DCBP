{
  "nbformat": 4,
  "nbformat_minor": 0,
  "metadata": {
    "colab": {
      "provenance": [],
      "authorship_tag": "ABX9TyOnBZsTg70HTgAjYBbWzVNP",
      "include_colab_link": true
    },
    "kernelspec": {
      "name": "ir",
      "display_name": "R"
    },
    "language_info": {
      "name": "R"
    }
  },
  "cells": [
    {
      "cell_type": "markdown",
      "metadata": {
        "id": "view-in-github",
        "colab_type": "text"
      },
      "source": [
        "<a href=\"https://colab.research.google.com/github/PStettler/Schneider-Group-DCBP/blob/main/sequenceCleaner.ipynb\" target=\"_parent\"><img src=\"https://colab.research.google.com/assets/colab-badge.svg\" alt=\"Open In Colab\"/></a>"
      ]
    },
    {
      "cell_type": "markdown",
      "source": [
        "Welcome to the sequence cleaner! <br>\n",
        "Is there something more annoying than copying a sequence from somewhere which contains line breaks or numbers or even U instead of T? I don't think so. This is why you need this algorithm!"
      ],
      "metadata": {
        "id": "ob4_HIUr5Llw"
      }
    },
    {
      "cell_type": "code",
      "execution_count": 1,
      "metadata": {
        "id": "9sHPsjtn5IId"
      },
      "outputs": [],
      "source": [
        "sequence = \n",
        "  #please replace the example DNA sequence below with your sequence of interest, use \n",
        "  #only DNA characters (GATC + see list below). \n",
        "  #Now go to Runtime, and select run everything. The results will be displayed below \n",
        "  #this box. Have fun.\n",
        "\n",
        "  # R for A or G\n",
        "  # Y for C or T\n",
        "  # S for G or C\n",
        "  # W for A or T\n",
        "  # K for G or T\n",
        "  # M for A or C\n",
        "  # B for C, G, or T\n",
        "  # D for A, G, or T\n",
        "  # H for A, C, or T\n",
        "  # V for A, C, or G\n",
        "  # N for A, G, C, or T\n",
        "\n",
        "\n",
        "  \"\n",
        "      1 gacaacgtga aaaaacgttc ccgacgcccg tccgtggacg gagcacgcgt gccatggaaa\n",
        "       61 acagggcaaa agcacatacg attccacgat ccgtacacgg accagtacac gtaccaacaa\n",
        "      121 cgtgtacgag gtgtccgggg aaaacggccc ataaccatgg aaattgcgcc tagactagct\n",
        "      181 cccaaaggcc aacaacgctg gcatggcagc caaaacatat gtcatggcaa aaaaacgtgc\n",
        "      241 cacggcaacg ttcaaaaaca gtgtacccct ccttcacaaa ctgaagggca ggggctaaaa\n",
        "      301 ccctcaggta ttatggggga ggaggggtcc tcccggt\n",
        "  \n",
        "  \""
      ]
    },
    {
      "cell_type": "code",
      "source": [
        "#@title \n",
        "#packages\n",
        "require(stringr)\n",
        "\n",
        "#Sequence Cleaner is an alogirthm that\n",
        "#takes any messy sequence as input and\n",
        "#returns a nice and clean DNA sequence.\n",
        "\n",
        "sequenceCleaner = function(seq = sequence)\n",
        "{\n",
        "\n",
        "  seq = paste(seq,sep=\"\",collapse=\"\")\n",
        "\n",
        "  #write anything to capital\n",
        "  seq = toupper(seq) #this will leave any \\n \\r \\t unchanged\n",
        "                     #thus, they can be later removed.\n",
        "\n",
        "  #replace U (RNA) to T (DNA)\n",
        "  seq = str_replace_all(seq,\"U\",\"T\")\n",
        "\n",
        "  #remove anything that is not DNA\n",
        "  seq = str_replace_all(seq,\"[^ATGCNRYSWKMBDHV]\",\"\")\n",
        "\n",
        "  cat(\"the cleaned-up sequence is:\\n\",seq,\"\\n\\n\")\n",
        "\n",
        "  #detect open reading frame (ORF)\n",
        "  seq_ORF = str_extract_all(str_extract(seq,\"ATG([ATGC]{3})*((TGA)|(TAA)|(TAG))\"),\"[ATGC]{3}\")[[1]]\n",
        "  seq_ORF_location = str_locate(seq,\"ATG([ATGC]{3})*((TGA)|(TAA)|(TAG))\")\n",
        "  #split sequence into codons inbetween ORF\n",
        "  seq_ORF[2:(length(seq_ORF)+1)] = seq_ORF\n",
        "  seq_ORF[1] = substr(seq,1,seq_ORF_location[1]-1)\n",
        "  seq_ORF[length(seq_ORF)+1] = substr(seq,seq_ORF_location[2]+1,nchar(seq))\n",
        "\n",
        "  cat(\"the cleand-up sequence with the open reading frame split into codons:\\n\",seq_ORF,sep=\" \")\n",
        "\n",
        "}\n",
        "\n",
        "sequenceCleaner()"
      ],
      "metadata": {
        "id": "wD_Y3H525M4d",
        "cellView": "form"
      },
      "execution_count": null,
      "outputs": []
    }
  ]
}
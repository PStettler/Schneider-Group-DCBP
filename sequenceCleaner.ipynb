{
  "nbformat": 4,
  "nbformat_minor": 0,
  "metadata": {
    "colab": {
      "provenance": [],
      "authorship_tag": "ABX9TyN8EVRbZbqBf63/29T2Ou7K",
      "include_colab_link": true
    },
    "kernelspec": {
      "name": "ir",
      "display_name": "R"
    },
    "language_info": {
      "name": "R"
    }
  },
  "cells": [
    {
      "cell_type": "markdown",
      "metadata": {
        "id": "view-in-github",
        "colab_type": "text"
      },
      "source": [
        "<a href=\"https://colab.research.google.com/github/PStettler/Schneider-Group-DCBP/blob/main/sequenceCleaner.ipynb\" target=\"_parent\"><img src=\"https://colab.research.google.com/assets/colab-badge.svg\" alt=\"Open In Colab\"/></a>"
      ]
    },
    {
      "cell_type": "markdown",
      "source": [
        "Welcome to the sequence cleaner! <br>\n",
        "Is there something more annoying than copying a sequence from somewhere which contains line breaks or numbers or even U instead of T? I don't think so. This is why you need this algorithm!"
      ],
      "metadata": {
        "id": "ob4_HIUr5Llw"
      }
    },
    {
      "cell_type": "code",
      "execution_count": 1,
      "metadata": {
        "id": "9sHPsjtn5IId"
      },
      "outputs": [],
      "source": [
        "sequence = \n",
        "  #please replace the example DNA sequence below with your sequence of interest, use \n",
        "  #only DNA characters (GATC + see list below). \n",
        "  #Now go to Runtime, and select run everything. The results will be displayed below \n",
        "  #this box. Have fun.\n",
        "\n",
        "  # R for A or G\n",
        "  # Y for C or T\n",
        "  # S for G or C\n",
        "  # W for A or T\n",
        "  # K for G or T\n",
        "  # M for A or C\n",
        "  # B for C, G, or T\n",
        "  # D for A, G, or T\n",
        "  # H for A, C, or T\n",
        "  # V for A, C, or G\n",
        "  # N for A, G, C, or T\n",
        "\n",
        "\n",
        "  \"\n",
        "     tgcgaaagggaaggggtacatatatatatatatatatatatacaaagaacaaaaggaaagggttgtacgagtggcgccac\n",
        "tggaggtcagctactggaagcttaattcgcctttgtgggtggccgtgcgacttaaggtctttctcatagaagcgtgaaga\n",
        "aggaaaggaaggaaggtgtcgcgcacggaaagcggaccgaggccacacaaccgcacatagaaaagagagatatataggag\n",
        "agggaaacaagaaagaaaactaacgtttggacatacgttgttttgatctcgtaactgtgcaggggagATGATTCCTCCGG\n",
        "CAAAATTAAATGATTTCTTCAACATCGTCGACGACTTCCTGAAGAAAACTTTCAGAGATGAGTCGTTTCTATTCGCTGCA\n",
        "GTCAAGTCCAGGCAGTATTCCGAGTCTTTTCCGGGTGAACAACTCTTCTTCACCTCCCCGCCTTCGGCGACGACTGACCA\n",
        "GCCCTCGGATGAGAGCCTTCAAGCAGGAGGAGGCGAGTTGAGGAAAACGCAAAATTTTATGTACTTCTCGCCCCGTCTAA\n",
        "TTTTCAACAGAGACGGAGGGTACCATGGGAAGGTGAAGTTGCACAGTGGTGTTCACGTGCCGCAGGTGTGTCGGTTTGAG\n",
        "CAAGGGATTGCTGTGAACAGCGAGGGGTTGGCATCGGGTAGCGTCAAGGTTAGTGATCTTCTCGAGGGAATGGAGGTAAA\n",
        "AGGGCGTCTCGCAGTAAACACAATTGCTCCTCCGTCAAAAGATGTGTGGTCCGTTGCAATGGATTACCAGCGTCGTGACT\n",
        "TCTATTCCACACTTAACTATCAGAGGAACGGATTGGGAAGCAGTGACTTGCTTGTTGATTGTGGCACGAAATTTTTTAAT\n",
        "CTTCTTGCGGGTGCCGGATTTGAGCGGCAGAAAGTTTCGTTTCTTGAGCAACAGGATCACACCGCGCAGTTGGACGTGCT\n",
        "TTATGCGGGGGTTGGCTTTACTGGGGTGAATTGGTCCGTTGGTGCAAAGTTAGTGAGAGCGAACGATATGTGGAGCGCGG\n",
        "CACGCATTGCTTTTTATCAGCGCGTGGTGCCCGACACATCGGTGGCCTGCGCATACAATTTCGATATGGAGGAGTCACGC\n",
        "GTACATGTCTCGCTGGGATTTTCACAGGGTTTTCGGCTTCGCGTCCCCACGATTCTGCAGCAGCGGGCGTGTGAGCAGTT\n",
        "GGACGTATGGACCGCCATTCTCCCGTTTGTAGGAGCATTCAAGGCGGAGAGCGGTGGCTTATGTGCGGCAACCATTCGTG\n",
        "GCATATTTAATGGCGTGGTGCATTGGGGTTTGGTGGCGCAGAAGAACGTGTTGGTGGAGAACAGTCCCATCCGTTTCGGT\n",
        "CTCACTCTTTCCGTGGAATCCGGTTGAgcagcgcacacatctgattttttggctaagggactggaggaaccgaaggttag\n",
        "aactaagagttggtctttaagcaaaacaaaatgcgcttcgtgaccctgcactgccagctgtaccgttccatggtggaaag\n",
        "gggtgggacggaagaaaaaaaaaagggcggtacatttccgcgttctgcatcttcacctctgtaatagaaataattaatgc\n",
        "atccttctttcgtccctgtttgggtgcgtgttcgtgtgtctgtttttcttttcttcaatcactttcatacgttacccacg\n",
        "ttatcatcgtgaggtagtctttggcattaccccccttccataccttttccccacgcacgtccgtggaaagtctaggggga\n",
        "ccggaacgagggaaaagacaagatatatttcaacagcttcgtgtcgttatggctgcaacacacgcatgaagggcatttgc\n",
        "ggttt\n",
        "  \n",
        "  \""
      ]
    },
    {
      "cell_type": "code",
      "source": [
        "#@title \n",
        "#packages\n",
        "require(stringr)\n",
        "\n",
        "#Sequence Cleaner is an alogirthm that\n",
        "#takes any messy sequence as input and\n",
        "#returns a nice and clean DNA sequence.\n",
        "\n",
        "sequenceCleaner = function(seq = sequence)\n",
        "{\n",
        "\n",
        "  seq = paste(seq,sep=\"\",collapse=\"\")\n",
        "\n",
        "  #write anything to capital\n",
        "  seq = toupper(seq) #this will leave any \\n \\r \\t unchanged\n",
        "                     #thus, they can be later removed.\n",
        "\n",
        "  #replace U (RNA) to T (DNA)\n",
        "  seq = str_replace_all(seq,\"U\",\"T\")\n",
        "\n",
        "  #remove anything that is not DNA\n",
        "  seq = str_replace_all(seq,\"[^ATGCNRYSWKMBDHV]\",\"\")\n",
        "\n",
        "  cat(\"the cleaned-up sequence is:\\n\",seq,\"\\n\\n\")\n",
        "\n",
        "#if sequence has open reading frame\n",
        "if(str_detect(seq,\"ATG([ATGC]{3})*((TGA)|(TAA)|(TAG))\"))\n",
        "{\n",
        "  #detect open reading frame (ORF)\n",
        "  regex = \"ATG([ATGC]{3})+(?=((TGA)|(TAA)|(TAG)))\"\n",
        "  ORF = seq\n",
        "  while(str_detect(ORF,regex)){\n",
        "    #a while loop to detect the correct open reading frame\n",
        "    #starting at the first atg and ending at the closest inframe stop codon\n",
        "    ORF = str_extract(ORF,regex)\n",
        "    if(!str_detect(regex,\"\\\\^\")) {regex = paste0(\"^\",regex)}\n",
        "  }\n",
        "  seq_ORF = str_extract_all(ORF,\"[ATGC]{3}\")[[1]] \n",
        "  seq_ORF_location = str_locate(seq,ORF)\n",
        "  #split sequence into codons inbetween ORF\n",
        "  \n",
        "  seq_ORF[2:(length(seq_ORF)+1)] = seq_ORF\n",
        "  seq_ORF[1] = substr(seq,1,seq_ORF_location[1]-1)\n",
        "  seq_ORF[length(seq_ORF)+1] = substr(seq,seq_ORF_location[2]+1,nchar(seq))\n",
        "  \n",
        "  cat(\"the cleand-up sequence with the open reading frame split into codons:\\n\",seq_ORF,sep=\" \")\n",
        "}\n",
        "\n",
        "sequenceCleaner()"
      ],
      "metadata": {
        "id": "wD_Y3H525M4d",
        "outputId": "5787db06-0117-4b36-c27c-93a9ee1b6e46",
        "colab": {
          "base_uri": "https://localhost:8080/"
        }
      },
      "execution_count": 2,
      "outputs": [
        {
          "output_type": "stream",
          "name": "stderr",
          "text": [
            "Loading required package: stringr\n",
            "\n"
          ]
        },
        {
          "output_type": "stream",
          "name": "stdout",
          "text": [
            "the cleaned-up sequence is:\n",
            " TGCGAAAGGGAAGGGGTACATATATATATATATATATATATACAAAGAACAAAAGGAAAGGGTTGTACGAGTGGCGCCACTGGAGGTCAGCTACTGGAAGCTTAATTCGCCTTTGTGGGTGGCCGTGCGACTTAAGGTCTTTCTCATAGAAGCGTGAAGAAGGAAAGGAAGGAAGGTGTCGCGCACGGAAAGCGGACCGAGGCCACACAACCGCACATAGAAAAGAGAGATATATAGGAGAGGGAAACAAGAAAGAAAACTAACGTTTGGACATACGTTGTTTTGATCTCGTAACTGTGCAGGGGAGATGATTCCTCCGGCAAAATTAAATGATTTCTTCAACATCGTCGACGACTTCCTGAAGAAAACTTTCAGAGATGAGTCGTTTCTATTCGCTGCAGTCAAGTCCAGGCAGTATTCCGAGTCTTTTCCGGGTGAACAACTCTTCTTCACCTCCCCGCCTTCGGCGACGACTGACCAGCCCTCGGATGAGAGCCTTCAAGCAGGAGGAGGCGAGTTGAGGAAAACGCAAAATTTTATGTACTTCTCGCCCCGTCTAATTTTCAACAGAGACGGAGGGTACCATGGGAAGGTGAAGTTGCACAGTGGTGTTCACGTGCCGCAGGTGTGTCGGTTTGAGCAAGGGATTGCTGTGAACAGCGAGGGGTTGGCATCGGGTAGCGTCAAGGTTAGTGATCTTCTCGAGGGAATGGAGGTAAAAGGGCGTCTCGCAGTAAACACAATTGCTCCTCCGTCAAAAGATGTGTGGTCCGTTGCAATGGATTACCAGCGTCGTGACTTCTATTCCACACTTAACTATCAGAGGAACGGATTGGGAAGCAGTGACTTGCTTGTTGATTGTGGCACGAAATTTTTTAATCTTCTTGCGGGTGCCGGATTTGAGCGGCAGAAAGTTTCGTTTCTTGAGCAACAGGATCACACCGCGCAGTTGGACGTGCTTTATGCGGGGGTTGGCTTTACTGGGGTGAATTGGTCCGTTGGTGCAAAGTTAGTGAGAGCGAACGATATGTGGAGCGCGGCACGCATTGCTTTTTATCAGCGCGTGGTGCCCGACACATCGGTGGCCTGCGCATACAATTTCGATATGGAGGAGTCACGCGTACATGTCTCGCTGGGATTTTCACAGGGTTTTCGGCTTCGCGTCCCCACGATTCTGCAGCAGCGGGCGTGTGAGCAGTTGGACGTATGGACCGCCATTCTCCCGTTTGTAGGAGCATTCAAGGCGGAGAGCGGTGGCTTATGTGCGGCAACCATTCGTGGCATATTTAATGGCGTGGTGCATTGGGGTTTGGTGGCGCAGAAGAACGTGTTGGTGGAGAACAGTCCCATCCGTTTCGGTCTCACTCTTTCCGTGGAATCCGGTTGAGCAGCGCACACATCTGATTTTTTGGCTAAGGGACTGGAGGAACCGAAGGTTAGAACTAAGAGTTGGTCTTTAAGCAAAACAAAATGCGCTTCGTGACCCTGCACTGCCAGCTGTACCGTTCCATGGTGGAAAGGGGTGGGACGGAAGAAAAAAAAAAGGGCGGTACATTTCCGCGTTCTGCATCTTCACCTCTGTAATAGAAATAATTAATGCATCCTTCTTTCGTCCCTGTTTGGGTGCGTGTTCGTGTGTCTGTTTTTCTTTTCTTCAATCACTTTCATACGTTACCCACGTTATCATCGTGAGGTAGTCTTTGGCATTACCCCCCTTCCATACCTTTTCCCCACGCACGTCCGTGGAAAGTCTAGGGGGACCGGAACGAGGGAAAAGACAAGATATATTTCAACAGCTTCGTGTCGTTATGGCTGCAACACACGCATGAAGGGCATTTGCGGTTT \n",
            "\n",
            "the cleand-up sequence with the open reading frame split into codons:\n",
            " TGCGAAAGGGAAGGGGTACATATATATATATATATATATATACAAAGAACAAAAGGAAAGGGTTGTACGAGTGGCGCCACTGGAGGTCAGCTACTGGAAGCTTAATTCGCCTTTGTGGGTGGCCGTGCGACTTAAGGTCTTTCTCATAGAAGCGTGAAGAAGGAAAGGAAGGAAGGTGTCGCGCACGGAAAGCGGACCGAGGCCACACAACCGCACATAGAAAAGAGAGATATATAGGAGAGGGAAACAAGAAAGAAAACTAACGTTTGGACATACGTTGTTTTGATCTCGTAACTGTGCAGGGGAG ATG ATT CCT CCG GCA AAA TTA AAT GAT TTC TTC AAC ATC GTC GAC GAC TTC CTG AAG AAA ACT TTC AGA GAT GAG TCG TTT CTA TTC GCT GCA GTC AAG TCC AGG CAG TAT TCC GAG TCT TTT CCG GGT GAA CAA CTC TTC TTC ACC TCC CCG CCT TCG GCG ACG ACT GAC CAG CCC TCG GAT GAG AGC CTT CAA GCA GGA GGA GGC GAG TTG AGG AAA ACG CAA AAT TTT ATG TAC TTC TCG CCC CGT CTA ATT TTC AAC AGA GAC GGA GGG TAC CAT GGG AAG GTG AAG TTG CAC AGT GGT GTT CAC GTG CCG CAG GTG TGT CGG TTT GAG CAA GGG ATT GCT GTG AAC AGC GAG GGG TTG GCA TCG GGT AGC GTC AAG GTT AGT GAT CTT CTC GAG GGA ATG GAG GTA AAA GGG CGT CTC GCA GTA AAC ACA ATT GCT CCT CCG TCA AAA GAT GTG TGG TCC GTT GCA ATG GAT TAC CAG CGT CGT GAC TTC TAT TCC ACA CTT AAC TAT CAG AGG AAC GGA TTG GGA AGC AGT GAC TTG CTT GTT GAT TGT GGC ACG AAA TTT TTT AAT CTT CTT GCG GGT GCC GGA TTT GAG CGG CAG AAA GTT TCG TTT CTT GAG CAA CAG GAT CAC ACC GCG CAG TTG GAC GTG CTT TAT GCG GGG GTT GGC TTT ACT GGG GTG AAT TGG TCC GTT GGT GCA AAG TTA GTG AGA GCG AAC GAT ATG TGG AGC GCG GCA CGC ATT GCT TTT TAT CAG CGC GTG GTG CCC GAC ACA TCG GTG GCC TGC GCA TAC AAT TTC GAT ATG GAG GAG TCA CGC GTA CAT GTC TCG CTG GGA TTT TCA CAG GGT TTT CGG CTT CGC GTC CCC ACG ATT CTG CAG CAG CGG GCG TGT GAG CAG TTG GAC GTA TGG ACC GCC ATT CTC CCG TTT GTA GGA GCA TTC AAG GCG GAG AGC GGT GGC TTA TGT GCG GCA ACC ATT CGT GGC ATA TTT AAT GGC GTG GTG CAT TGG GGT TTG GTG GCG CAG AAG AAC GTG TTG GTG GAG AAC AGT CCC ATC CGT TTC GGT CTC ACT CTT TCC GTG GAA TCC GGT TGA GCA GCG CAC ACA TCT GAT TTT TTG GCT AAG GGA CTG GAG GAA CCG AAG GTT AGA ACT AAG AGT TGG TCT TTA AGC AAA ACA AAA TGC GCT TCG TGA CCC TGC ACT GCC AGC TGT ACC GTT CCA TGG TGG AAA GGG GTG GGA CGG AAG AAA AAA AAA AGG GCG GTA CAT TTC CGC GTT CTG CAT CTT CAC CTC TGT AAT AGA AAT AAT TAATGCATCCTTCTTTCGTCCCTGTTTGGGTGCGTGTTCGTGTGTCTGTTTTTCTTTTCTTCAATCACTTTCATACGTTACCCACGTTATCATCGTGAGGTAGTCTTTGGCATTACCCCCCTTCCATACCTTTTCCCCACGCACGTCCGTGGAAAGTCTAGGGGGACCGGAACGAGGGAAAAGACAAGATATATTTCAACAGCTTCGTGTCGTTATGGCTGCAACACACGCATGAAGGGCATTTGCGGTTT"
          ]
        }
      ]
    }
  ]
}
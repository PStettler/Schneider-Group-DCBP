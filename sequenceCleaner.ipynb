{
  "nbformat": 4,
  "nbformat_minor": 0,
  "metadata": {
    "colab": {
      "provenance": [],
      "authorship_tag": "ABX9TyMnMzY7PnqhDvTGikoPf17J",
      "include_colab_link": true
    },
    "kernelspec": {
      "name": "ir",
      "display_name": "R"
    },
    "language_info": {
      "name": "R"
    }
  },
  "cells": [
    {
      "cell_type": "markdown",
      "metadata": {
        "id": "view-in-github",
        "colab_type": "text"
      },
      "source": [
        "<a href=\"https://colab.research.google.com/github/PStettler/Schneider-Group-DCBP/blob/main/sequenceCleaner.ipynb\" target=\"_parent\"><img src=\"https://colab.research.google.com/assets/colab-badge.svg\" alt=\"Open In Colab\"/></a>"
      ]
    },
    {
      "cell_type": "markdown",
      "source": [
        "Welcome to the sequence cleaner! <br>\n",
        "Is there something more annoying than copying a sequence from somewhere which contains line breaks or numbers or even U instead of T? I don't think so. This is why you need this algorithm!"
      ],
      "metadata": {
        "id": "ob4_HIUr5Llw"
      }
    },
    {
      "cell_type": "code",
      "execution_count": 3,
      "metadata": {
        "id": "9sHPsjtn5IId"
      },
      "outputs": [],
      "source": [
        "sequence = \n",
        "  #please replace the example DNA sequence below with your sequence of interest, use \n",
        "  #only DNA characters (GATC + see list below). \n",
        "  #Now go to Runtime, and select run everything. The results will be displayed below \n",
        "  #this box. Have fun.\n",
        "\n",
        "  # R for A or G\n",
        "  # Y for C or T\n",
        "  # S for G or C\n",
        "  # W for A or T\n",
        "  # K for G or T\n",
        "  # M for A or C\n",
        "  # B for C, G, or T\n",
        "  # D for A, G, or T\n",
        "  # H for A, C, or T\n",
        "  # V for A, C, or G\n",
        "  # N for A, G, C, or T\n",
        "\n",
        "\n",
        "  \"\n",
        "      1 atgagtcagg gacgagaagc caaagtctac gtcaacggaa gcctggtcgg gacgcacccc\n",
        "       61 gacccgaaca gactcgcgag cgacatccga caggcccgcc gccgtggcga cgtcagtcag\n",
        "      121 atggtcaacg tctcggtgcg cgagcgcacc ggcgaggtca tcgtcaacgc cgacgccggc\n",
        "      181 cgcgcccgcc gaccgctcat cgtcgtcgag gacggcgagc cgcgcatcgg tgacgaggac\n",
        "      241 atcgaggcgc tcgaggccgg ccagctcgac ttcgaggact tcgtcgagac cggtgccatc\n",
        "      301 gagttcatcg acgccgagga ggaagaggac atctacgtcg cggtcgacga ggaggaggtc\n",
        "      361 agcgaggacc acacccacct cgagatcgac ccacagctca tcttcggtat cggtgccggg\n",
        "      421 atgattccct accccgagca caacgcttcc ccacgaatta cgatggggtc ggggatggtc\n",
        "      481 aagcagtcgc tcgggctgcc gagcgcgaac taccgcatcc ggccggacac gcgccagcac\n",
        "      541 ctgctgcact acccacagct ctcgatggtc aaaacgcaga ccaccgagca gatcgggtac\n",
        "      601 gacgaccggc ccgccgcaca gaacttcacc gtcgcggtga tgagctacga ggggttcaac\n",
        "      661 atcgaggacg cgctcgtcat gaacaaggcg tcggtcgagc gcgcgctcgc ccggtcgcac\n",
        "      721 ttcttccgca cctacgaggg tgaggagcga cgctaccccg gcggccagga ggaccgcttc\n",
        "      781 gagattccct ccgacgaggt ccgtggcgca cgcggcgagg aggcgtacac gcacctcgac\n",
        "      841 gacgacggtc tcgtcaaccc ggagacgacc gtcgacgaga acgacgtgct gctcgggaag\n",
        "      901 acctccccgc cccggttcct cgaagagccg gacgacatgg gtgggctgag cccccagaag\n",
        "      961 cgccgcgaga cgagcgtcac gatgcgttcg ggcgaagacg gcgtcgtcga cacggtgacg\n",
        "     1021 ctgatggagg gcgaggacgg gtcgaagctc tcgaaggtct cggtgcgcga ccagcgaatc\n",
        "     1081 cccgaactcg gggacaagtt cgcgtcgcga cacggccaga agggggtcgt gggccacctc\n",
        "     1141 gcgccccagg aggacatgcc gttcacccag gagggcgtcg tgcccgacct catcgtcaac\n",
        "     1201 ccgcacgcgc tgccgtcgcg gatgacggtg ggtcacgtgc tggagatgct cggcgggaag\n",
        "     1261 gtcggcgcgc tcgaaggccg ccgtgtcgac gggaccgcct tccagggcga ggacgaggag\n",
        "     1321 gaactgcgtg cggcgctgga ggagaagggg tacaactccg cgggcaagga gacgatgtac\n",
        "     1381 tccggtgtca ccggcgagaa gatcgaggcc gagatcttcg tcggggtcat cttctaccag\n",
        "     1441 aagctgtacc acatggtctc gaacaagatt cacgcgcgtt cgcgtgggcc ggtccaggtg\n",
        "     1501 ctgacccgcc agcccaccga agggcgtgcg cgtgaaggtg ggctccgtgt cggagagatg\n",
        "     1561 gagcgcgacg tgctcatcgg tcacggcgcg gcgatggcgc tcaaagagcg cctcctcgac\n",
        "     1621 gagtccgacc gcgagtacat cgacatctgt gggaactgtg ggatgaccgc cgtcgagaac\n",
        "     1681 gtcgagcaac ggcgcatcta ctgtccgaac tgcgaggagg agacggacat ccaccgcgtc\n",
        "     1741 gagatgagct acgcgttcaa actactgctc gacgagatga aggcgctggg catcgccccg\n",
        "     1801 cgaatcgaac tggaggacgc agtatga\n",
        "  \n",
        "  \""
      ]
    },
    {
      "cell_type": "code",
      "source": [
        "#@title \n",
        "#packages\n",
        "require(stringr)\n",
        "\n",
        "#Sequence Cleaner is an alogirthm that\n",
        "#takes any messy sequence as input and\n",
        "#returns a nice and clean DNA sequence.\n",
        "\n",
        "sequenceCleaner = function(seq = sequence)\n",
        "{\n",
        "\n",
        "  seq = paste(seq,sep=\"\",collapse=\"\")\n",
        "\n",
        "  #write anything to capital\n",
        "  seq = toupper(seq) #this will leave any \\n \\r \\t unchanged\n",
        "                     #thus, they can be later removed.\n",
        "\n",
        "  #replace U (RNA) to T (DNA)\n",
        "  seq = str_replace_all(seq,\"U\",\"T\")\n",
        "\n",
        "  #remove anything that is not DNA\n",
        "  seq = str_replace_all(seq,\"[^ATGCNRYSWKMBDHV]\",\"\")\n",
        "\n",
        "  cat(\"the cleaned-up sequence is:\\n\",seq,\"\\n\\n\")\n",
        "\n",
        "#if sequence has open reading frame\n",
        "if(str_detect(seq,\"ATG([ATGC]{3})*((TGA)|(TAA)|(TAG))\"))\n",
        "{\n",
        "  #detect open reading frame (ORF)\n",
        "  regex = \"ATG([ATGC]{3})+(?=((TGA)|(TAA)|(TAG)))\"\n",
        "  ORF = seq\n",
        "  while(str_detect(ORF,regex)){\n",
        "    #a while loop to detect the correct open reading frame\n",
        "    #starting at the first atg and ending at the closest inframe stop codon\n",
        "    ORF = str_extract(ORF,regex)\n",
        "    if(!str_detect(regex,\"\\\\^\")) {regex = paste0(\"^\",regex)}\n",
        "  }\n",
        "  seq_ORF = str_extract_all(ORF,\"[ATGC]{3}\")[[1]] \n",
        "  seq_ORF_location = str_locate(seq,ORF)\n",
        "  #split sequence into codons inbetween ORF\n",
        "  \n",
        "  seq_ORF[2:(length(seq_ORF)+1)] = seq_ORF\n",
        "  seq_ORF[1] = substr(seq,1,seq_ORF_location[1]-1)\n",
        "  seq_ORF[length(seq_ORF)+1] = substr(seq,seq_ORF_location[2]+1,nchar(seq))\n",
        "  \n",
        "  cat(\"the cleand-up sequence with the open reading frame split into codons:\\n\",seq_ORF,sep=\" \")\n",
        "  }\n",
        "}\n",
        "\n",
        "sequenceCleaner()"
      ],
      "metadata": {
        "id": "wD_Y3H525M4d",
        "colab": {
          "base_uri": "https://localhost:8080/"
        },
        "outputId": "95016aa6-38d2-4ff9-cae5-914c56ef1935"
      },
      "execution_count": 4,
      "outputs": [
        {
          "output_type": "stream",
          "name": "stdout",
          "text": [
            "the cleaned-up sequence is:\n",
            " ATGAGTCAGGGACGAGAAGCCAAAGTCTACGTCAACGGAAGCCTGGTCGGGACGCACCCCGACCCGAACAGACTCGCGAGCGACATCCGACAGGCCCGCCGCCGTGGCGACGTCAGTCAGATGGTCAACGTCTCGGTGCGCGAGCGCACCGGCGAGGTCATCGTCAACGCCGACGCCGGCCGCGCCCGCCGACCGCTCATCGTCGTCGAGGACGGCGAGCCGCGCATCGGTGACGAGGACATCGAGGCGCTCGAGGCCGGCCAGCTCGACTTCGAGGACTTCGTCGAGACCGGTGCCATCGAGTTCATCGACGCCGAGGAGGAAGAGGACATCTACGTCGCGGTCGACGAGGAGGAGGTCAGCGAGGACCACACCCACCTCGAGATCGACCCACAGCTCATCTTCGGTATCGGTGCCGGGATGATTCCCTACCCCGAGCACAACGCTTCCCCACGAATTACGATGGGGTCGGGGATGGTCAAGCAGTCGCTCGGGCTGCCGAGCGCGAACTACCGCATCCGGCCGGACACGCGCCAGCACCTGCTGCACTACCCACAGCTCTCGATGGTCAAAACGCAGACCACCGAGCAGATCGGGTACGACGACCGGCCCGCCGCACAGAACTTCACCGTCGCGGTGATGAGCTACGAGGGGTTCAACATCGAGGACGCGCTCGTCATGAACAAGGCGTCGGTCGAGCGCGCGCTCGCCCGGTCGCACTTCTTCCGCACCTACGAGGGTGAGGAGCGACGCTACCCCGGCGGCCAGGAGGACCGCTTCGAGATTCCCTCCGACGAGGTCCGTGGCGCACGCGGCGAGGAGGCGTACACGCACCTCGACGACGACGGTCTCGTCAACCCGGAGACGACCGTCGACGAGAACGACGTGCTGCTCGGGAAGACCTCCCCGCCCCGGTTCCTCGAAGAGCCGGACGACATGGGTGGGCTGAGCCCCCAGAAGCGCCGCGAGACGAGCGTCACGATGCGTTCGGGCGAAGACGGCGTCGTCGACACGGTGACGCTGATGGAGGGCGAGGACGGGTCGAAGCTCTCGAAGGTCTCGGTGCGCGACCAGCGAATCCCCGAACTCGGGGACAAGTTCGCGTCGCGACACGGCCAGAAGGGGGTCGTGGGCCACCTCGCGCCCCAGGAGGACATGCCGTTCACCCAGGAGGGCGTCGTGCCCGACCTCATCGTCAACCCGCACGCGCTGCCGTCGCGGATGACGGTGGGTCACGTGCTGGAGATGCTCGGCGGGAAGGTCGGCGCGCTCGAAGGCCGCCGTGTCGACGGGACCGCCTTCCAGGGCGAGGACGAGGAGGAACTGCGTGCGGCGCTGGAGGAGAAGGGGTACAACTCCGCGGGCAAGGAGACGATGTACTCCGGTGTCACCGGCGAGAAGATCGAGGCCGAGATCTTCGTCGGGGTCATCTTCTACCAGAAGCTGTACCACATGGTCTCGAACAAGATTCACGCGCGTTCGCGTGGGCCGGTCCAGGTGCTGACCCGCCAGCCCACCGAAGGGCGTGCGCGTGAAGGTGGGCTCCGTGTCGGAGAGATGGAGCGCGACGTGCTCATCGGTCACGGCGCGGCGATGGCGCTCAAAGAGCGCCTCCTCGACGAGTCCGACCGCGAGTACATCGACATCTGTGGGAACTGTGGGATGACCGCCGTCGAGAACGTCGAGCAACGGCGCATCTACTGTCCGAACTGCGAGGAGGAGACGGACATCCACCGCGTCGAGATGAGCTACGCGTTCAAACTACTGCTCGACGAGATGAAGGCGCTGGGCATCGCCCCGCGAATCGAACTGGAGGACGCAGTATGA \n",
            "\n",
            "the cleand-up sequence with the open reading frame split into codons:\n",
            "  ATG AGT CAG GGA CGA GAA GCC AAA GTC TAC GTC AAC GGA AGC CTG GTC GGG ACG CAC CCC GAC CCG AAC AGA CTC GCG AGC GAC ATC CGA CAG GCC CGC CGC CGT GGC GAC GTC AGT CAG ATG GTC AAC GTC TCG GTG CGC GAG CGC ACC GGC GAG GTC ATC GTC AAC GCC GAC GCC GGC CGC GCC CGC CGA CCG CTC ATC GTC GTC GAG GAC GGC GAG CCG CGC ATC GGT GAC GAG GAC ATC GAG GCG CTC GAG GCC GGC CAG CTC GAC TTC GAG GAC TTC GTC GAG ACC GGT GCC ATC GAG TTC ATC GAC GCC GAG GAG GAA GAG GAC ATC TAC GTC GCG GTC GAC GAG GAG GAG GTC AGC GAG GAC CAC ACC CAC CTC GAG ATC GAC CCA CAG CTC ATC TTC GGT ATC GGT GCC GGG ATG ATT CCC TAC CCC GAG CAC AAC GCT TCC CCA CGA ATT ACG ATG GGG TCG GGG ATG GTC AAG CAG TCG CTC GGG CTG CCG AGC GCG AAC TAC CGC ATC CGG CCG GAC ACG CGC CAG CAC CTG CTG CAC TAC CCA CAG CTC TCG ATG GTC AAA ACG CAG ACC ACC GAG CAG ATC GGG TAC GAC GAC CGG CCC GCC GCA CAG AAC TTC ACC GTC GCG GTG ATG AGC TAC GAG GGG TTC AAC ATC GAG GAC GCG CTC GTC ATG AAC AAG GCG TCG GTC GAG CGC GCG CTC GCC CGG TCG CAC TTC TTC CGC ACC TAC GAG GGT GAG GAG CGA CGC TAC CCC GGC GGC CAG GAG GAC CGC TTC GAG ATT CCC TCC GAC GAG GTC CGT GGC GCA CGC GGC GAG GAG GCG TAC ACG CAC CTC GAC GAC GAC GGT CTC GTC AAC CCG GAG ACG ACC GTC GAC GAG AAC GAC GTG CTG CTC GGG AAG ACC TCC CCG CCC CGG TTC CTC GAA GAG CCG GAC GAC ATG GGT GGG CTG AGC CCC CAG AAG CGC CGC GAG ACG AGC GTC ACG ATG CGT TCG GGC GAA GAC GGC GTC GTC GAC ACG GTG ACG CTG ATG GAG GGC GAG GAC GGG TCG AAG CTC TCG AAG GTC TCG GTG CGC GAC CAG CGA ATC CCC GAA CTC GGG GAC AAG TTC GCG TCG CGA CAC GGC CAG AAG GGG GTC GTG GGC CAC CTC GCG CCC CAG GAG GAC ATG CCG TTC ACC CAG GAG GGC GTC GTG CCC GAC CTC ATC GTC AAC CCG CAC GCG CTG CCG TCG CGG ATG ACG GTG GGT CAC GTG CTG GAG ATG CTC GGC GGG AAG GTC GGC GCG CTC GAA GGC CGC CGT GTC GAC GGG ACC GCC TTC CAG GGC GAG GAC GAG GAG GAA CTG CGT GCG GCG CTG GAG GAG AAG GGG TAC AAC TCC GCG GGC AAG GAG ACG ATG TAC TCC GGT GTC ACC GGC GAG AAG ATC GAG GCC GAG ATC TTC GTC GGG GTC ATC TTC TAC CAG AAG CTG TAC CAC ATG GTC TCG AAC AAG ATT CAC GCG CGT TCG CGT GGG CCG GTC CAG GTG CTG ACC CGC CAG CCC ACC GAA GGG CGT GCG CGT GAA GGT GGG CTC CGT GTC GGA GAG ATG GAG CGC GAC GTG CTC ATC GGT CAC GGC GCG GCG ATG GCG CTC AAA GAG CGC CTC CTC GAC GAG TCC GAC CGC GAG TAC ATC GAC ATC TGT GGG AAC TGT GGG ATG ACC GCC GTC GAG AAC GTC GAG CAA CGG CGC ATC TAC TGT CCG AAC TGC GAG GAG GAG ACG GAC ATC CAC CGC GTC GAG ATG AGC TAC GCG TTC AAA CTA CTG CTC GAC GAG ATG AAG GCG CTG GGC ATC GCC CCG CGA ATC GAA CTG GAG GAC GCA GTA TGA"
          ]
        }
      ]
    }
  ]
}